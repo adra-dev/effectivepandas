{
 "cells": [
  {
   "cell_type": "markdown",
   "metadata": {},
   "source": [
    "# Effective pandas exercises"
   ]
  },
  {
   "cell_type": "markdown",
   "metadata": {},
   "source": [
    "## 2.5 Exercises: \n",
    "1. Install pandas on your machine (using Anaconda or pip). \n",
    "2. Install Jupyter on your machine. \n",
    "3. Launch Jupyter and run the following in a cell: \n",
    "    - import pandas \n",
    "    - pandas.show_versions ()"
   ]
  },
  {
   "cell_type": "code",
   "execution_count": 33,
   "metadata": {},
   "outputs": [],
   "source": [
    "# ! pip install pandas\n"
   ]
  },
  {
   "cell_type": "code",
   "execution_count": 34,
   "metadata": {},
   "outputs": [],
   "source": [
    "import pandas as pd"
   ]
  },
  {
   "cell_type": "code",
   "execution_count": 35,
   "metadata": {},
   "outputs": [
    {
     "name": "stdout",
     "output_type": "stream",
     "text": [
      "2.1.1\n"
     ]
    }
   ],
   "source": [
    "print(pd.__version__)"
   ]
  },
  {
   "cell_type": "code",
   "execution_count": 36,
   "metadata": {},
   "outputs": [
    {
     "name": "stdout",
     "output_type": "stream",
     "text": [
      "\n",
      "INSTALLED VERSIONS\n",
      "------------------\n",
      "commit              : e86ed377639948c64c429059127bcf5b359ab6be\n",
      "python              : 3.11.0.final.0\n",
      "python-bits         : 64\n",
      "OS                  : Windows\n",
      "OS-release          : 10\n",
      "Version             : 10.0.19045\n",
      "machine             : AMD64\n",
      "processor           : AMD64 Family 23 Model 1 Stepping 1, AuthenticAMD\n",
      "byteorder           : little\n",
      "LC_ALL              : None\n",
      "LANG                : None\n",
      "LOCALE              : Spanish_Mexico.1252\n",
      "\n",
      "pandas              : 2.1.1\n",
      "numpy               : 1.26.0\n",
      "pytz                : 2023.3.post1\n",
      "dateutil            : 2.8.2\n",
      "setuptools          : 65.5.0\n",
      "pip                 : 22.3\n",
      "Cython              : None\n",
      "pytest              : None\n",
      "hypothesis          : None\n",
      "sphinx              : None\n",
      "blosc               : None\n",
      "feather             : None\n",
      "xlsxwriter          : None\n",
      "lxml.etree          : None\n",
      "html5lib            : None\n",
      "pymysql             : None\n",
      "psycopg2            : None\n",
      "jinja2              : None\n",
      "IPython             : 8.16.1\n",
      "pandas_datareader   : None\n",
      "bs4                 : None\n",
      "bottleneck          : None\n",
      "dataframe-api-compat: None\n",
      "fastparquet         : None\n",
      "fsspec              : None\n",
      "gcsfs               : None\n",
      "matplotlib          : None\n",
      "numba               : None\n",
      "numexpr             : None\n",
      "odfpy               : None\n",
      "openpyxl            : None\n",
      "pandas_gbq          : None\n",
      "pyarrow             : None\n",
      "pyreadstat          : None\n",
      "pyxlsb              : None\n",
      "s3fs                : None\n",
      "scipy               : None\n",
      "sqlalchemy          : None\n",
      "tables              : None\n",
      "tabulate            : None\n",
      "xarray              : None\n",
      "xlrd                : None\n",
      "zstandard           : None\n",
      "tzdata              : 2023.3\n",
      "qtpy                : None\n",
      "pyqt5               : None\n"
     ]
    }
   ],
   "source": [
    "pd.show_versions()"
   ]
  },
  {
   "cell_type": "markdown",
   "metadata": {},
   "source": [
    "## 3.2 Exercises: \n",
    "1. If you had a spreadsheet with data, which pandas data structure would you use to hold the data? Why? \n",
    "    - DataFrame, becasue it has similar dimensions to hold the data.\n",
    "\n",
    "2. If you had a database with data, which pandas data structure would you use to hold the data? Why?\n",
    "    - DataFrame after reading a query from a data base to hold the tabular data."
   ]
  },
  {
   "cell_type": "code",
   "execution_count": 37,
   "metadata": {},
   "outputs": [],
   "source": [
    "series = { \n",
    "    'index':[0 , 1 , 2 , 3] ,\n",
    "    'data':[145 , 142 , 38 , 13] ,\n",
    "    'name': 'songs'  } "
   ]
  },
  {
   "cell_type": "code",
   "execution_count": 38,
   "metadata": {},
   "outputs": [
    {
     "data": {
      "text/plain": [
       "142"
      ]
     },
     "execution_count": 38,
     "metadata": {},
     "output_type": "execute_result"
    }
   ],
   "source": [
    "def get ( series , idx ):  \n",
    "    value_idx = series ['index']. index ( idx ) \n",
    "    return series ['data'][ value_idx ]\n",
    "\n",
    "get(series,1)"
   ]
  },
  {
   "cell_type": "code",
   "execution_count": 39,
   "metadata": {},
   "outputs": [
    {
     "data": {
      "text/plain": [
       "142"
      ]
     },
     "execution_count": 39,
     "metadata": {},
     "output_type": "execute_result"
    }
   ],
   "source": [
    "songs = { \n",
    "    'index':[ 'Paul' , 'John' , 'George' , 'Ringo'], \n",
    "    'data':[145 , 142 , 38 , 13] ,\n",
    "    'name': 'counts'\n",
    "    } \n",
    "\n",
    "get ( songs , 'John')\n"
   ]
  },
  {
   "cell_type": "code",
   "execution_count": 40,
   "metadata": {},
   "outputs": [],
   "source": [
    "songs2 = pd.Series([145, 142, 38, 13], name='counts')"
   ]
  },
  {
   "cell_type": "code",
   "execution_count": 41,
   "metadata": {},
   "outputs": [
    {
     "data": {
      "text/plain": [
       "RangeIndex(start=0, stop=4, step=1)"
      ]
     },
     "execution_count": 41,
     "metadata": {},
     "output_type": "execute_result"
    }
   ],
   "source": [
    "songs2.index"
   ]
  },
  {
   "cell_type": "code",
   "execution_count": 42,
   "metadata": {},
   "outputs": [
    {
     "data": {
      "text/plain": [
       "Index(['Paul', 'Jhon', 'George', 'Ringo'], dtype='object')"
      ]
     },
     "execution_count": 42,
     "metadata": {},
     "output_type": "execute_result"
    }
   ],
   "source": [
    "songs3 = pd.Series(\n",
    "    [145, 142, 38, 13], \n",
    "    name='counts',\n",
    "    index=['Paul', 'Jhon', 'George', 'Ringo']\n",
    ")\n",
    "\n",
    "songs3.index"
   ]
  },
  {
   "cell_type": "code",
   "execution_count": 43,
   "metadata": {},
   "outputs": [],
   "source": [
    "class Foo:\n",
    "    pass"
   ]
  },
  {
   "cell_type": "code",
   "execution_count": 44,
   "metadata": {},
   "outputs": [
    {
     "data": {
      "text/plain": [
       "0                                        Richard\n",
       "1                                        Starkey\n",
       "2                                             13\n",
       "3    <__main__.Foo object at 0x000002998A260190>\n",
       "Name: ringo, dtype: object"
      ]
     },
     "execution_count": 44,
     "metadata": {},
     "output_type": "execute_result"
    }
   ],
   "source": [
    "ringo = pd.Series(\n",
    "    [ 'Richard', 'Starkey', 13, Foo()],\n",
    "    name='ringo'\n",
    ")\n",
    "\n",
    "ringo"
   ]
  },
  {
   "cell_type": "code",
   "execution_count": 45,
   "metadata": {},
   "outputs": [],
   "source": [
    "import numpy as np"
   ]
  },
  {
   "cell_type": "code",
   "execution_count": 46,
   "metadata": {},
   "outputs": [
    {
     "data": {
      "text/plain": [
       "Ono           2\n",
       "Clapton    <NA>\n",
       "dtype: Int64"
      ]
     },
     "execution_count": 46,
     "metadata": {},
     "output_type": "execute_result"
    }
   ],
   "source": [
    "nan_series2 = pd.Series(\n",
    "    [2, np.nan],\n",
    "    index=['Ono', 'Clapton'],\n",
    "    dtype='Int64'\n",
    ")\n",
    "\n",
    "nan_series2"
   ]
  },
  {
   "cell_type": "code",
   "execution_count": 47,
   "metadata": {},
   "outputs": [
    {
     "data": {
      "text/plain": [
       "1"
      ]
     },
     "execution_count": 47,
     "metadata": {},
     "output_type": "execute_result"
    }
   ],
   "source": [
    "nan_series2.count()"
   ]
  },
  {
   "cell_type": "code",
   "execution_count": 48,
   "metadata": {},
   "outputs": [],
   "source": [
    "#nan_series.astype('Int64')"
   ]
  },
  {
   "cell_type": "code",
   "execution_count": 49,
   "metadata": {},
   "outputs": [
    {
     "data": {
      "text/plain": [
       "84.5"
      ]
     },
     "execution_count": 49,
     "metadata": {},
     "output_type": "execute_result"
    }
   ],
   "source": [
    "numpy_ser = np.array([145, 142, 38, 13])\n",
    "numpy_ser.mean()"
   ]
  },
  {
   "cell_type": "code",
   "execution_count": 50,
   "metadata": {},
   "outputs": [
    {
     "data": {
      "text/plain": [
       "84.5"
      ]
     },
     "execution_count": 50,
     "metadata": {},
     "output_type": "execute_result"
    }
   ],
   "source": [
    "songs3.mean()"
   ]
  },
  {
   "cell_type": "code",
   "execution_count": 51,
   "metadata": {},
   "outputs": [
    {
     "data": {
      "text/plain": [
       "Paul    145\n",
       "Jhon    142\n",
       "Name: counts, dtype: int64"
      ]
     },
     "execution_count": 51,
     "metadata": {},
     "output_type": "execute_result"
    }
   ],
   "source": [
    "mask = songs3 > songs3.median()\n",
    "mask\n",
    "songs3[mask]"
   ]
  },
  {
   "cell_type": "code",
   "execution_count": 52,
   "metadata": {},
   "outputs": [
    {
     "data": {
      "text/plain": [
       "array([145, 142])"
      ]
     },
     "execution_count": 52,
     "metadata": {},
     "output_type": "execute_result"
    }
   ],
   "source": [
    "numpy_ser[numpy_ser > np.median(numpy_ser)]"
   ]
  },
  {
   "cell_type": "code",
   "execution_count": 53,
   "metadata": {},
   "outputs": [
    {
     "data": {
      "text/plain": [
       "0     m\n",
       "1     l\n",
       "2    xs\n",
       "3     s\n",
       "4    xl\n",
       "dtype: category\n",
       "Categories (5, object): ['l', 'm', 's', 'xl', 'xs']"
      ]
     },
     "execution_count": 53,
     "metadata": {},
     "output_type": "execute_result"
    }
   ],
   "source": [
    "s = pd.Series(['m', 'l', 'xs', 's', 'xl'], dtype='category')\n",
    "s"
   ]
  },
  {
   "cell_type": "code",
   "execution_count": 54,
   "metadata": {},
   "outputs": [
    {
     "data": {
      "text/plain": [
       "False"
      ]
     },
     "execution_count": 54,
     "metadata": {},
     "output_type": "execute_result"
    }
   ],
   "source": [
    "s.cat.ordered"
   ]
  },
  {
   "cell_type": "code",
   "execution_count": 55,
   "metadata": {},
   "outputs": [],
   "source": [
    "s2 = pd.Series(['m', 'l', 'xs', 's', 'xl'], dtype='category')\n",
    "size_type = pd.api.types.CategoricalDtype(\n",
    "    categories=['s', 'm', 'l'], ordered=True\n",
    ")\n",
    "s3 = s2.astype(size_type)"
   ]
  },
  {
   "cell_type": "code",
   "execution_count": 56,
   "metadata": {},
   "outputs": [
    {
     "data": {
      "text/plain": [
       "0     True\n",
       "1     True\n",
       "2    False\n",
       "3    False\n",
       "4    False\n",
       "dtype: bool"
      ]
     },
     "execution_count": 56,
     "metadata": {},
     "output_type": "execute_result"
    }
   ],
   "source": [
    "s3 > 's'"
   ]
  },
  {
   "cell_type": "code",
   "execution_count": 57,
   "metadata": {},
   "outputs": [
    {
     "data": {
      "text/plain": [
       "0     m\n",
       "1     l\n",
       "2    xs\n",
       "3     s\n",
       "4    xl\n",
       "dtype: category\n",
       "Categories (5, object): ['xs' < 's' < 'm' < 'l' < 'xl']"
      ]
     },
     "execution_count": 57,
     "metadata": {},
     "output_type": "execute_result"
    }
   ],
   "source": [
    "s.cat.reorder_categories(['xs', 's', 'm', 'l', 'xl'], ordered=True)"
   ]
  },
  {
   "cell_type": "code",
   "execution_count": 58,
   "metadata": {},
   "outputs": [
    {
     "data": {
      "text/plain": [
       "0      M\n",
       "1      L\n",
       "2    NaN\n",
       "3      S\n",
       "4    NaN\n",
       "dtype: object"
      ]
     },
     "execution_count": 58,
     "metadata": {},
     "output_type": "execute_result"
    }
   ],
   "source": [
    "s3.str.upper()"
   ]
  },
  {
   "cell_type": "markdown",
   "metadata": {},
   "source": [
    "## 4.8 Exercises \n",
    "1. Create a series with the temperature values for the last seven days. Filter out the values below the mean. \n",
    "\n",
    "2. Create a series with your favorite colors. Use a categorical type.\n"
   ]
  },
  {
   "cell_type": "code",
   "execution_count": 59,
   "metadata": {},
   "outputs": [
    {
     "data": {
      "text/plain": [
       "0    24.10\n",
       "1    24.90\n",
       "2    21.80\n",
       "3    24.90\n",
       "4    24.10\n",
       "5    25.11\n",
       "6    24.12\n",
       "dtype: float64"
      ]
     },
     "execution_count": 59,
     "metadata": {},
     "output_type": "execute_result"
    }
   ],
   "source": [
    "temperature = pd.Series([24.10, 24.9, 21.8, 24.9, 24.10, 25.11, 24.12])\n",
    "temperature"
   ]
  },
  {
   "cell_type": "code",
   "execution_count": 60,
   "metadata": {},
   "outputs": [
    {
     "data": {
      "text/plain": [
       "1    24.90\n",
       "3    24.90\n",
       "5    25.11\n",
       "dtype: float64"
      ]
     },
     "execution_count": 60,
     "metadata": {},
     "output_type": "execute_result"
    }
   ],
   "source": [
    "mask = temperature > temperature.mean()\n",
    "mask\n",
    "temperature[mask]"
   ]
  },
  {
   "cell_type": "code",
   "execution_count": 61,
   "metadata": {},
   "outputs": [
    {
     "data": {
      "text/plain": [
       "0      blue\n",
       "1     white\n",
       "2    orange\n",
       "3    yellow\n",
       "4       red\n",
       "5     green\n",
       "dtype: category\n",
       "Categories (6, object): ['blue', 'green', 'orange', 'red', 'white', 'yellow']"
      ]
     },
     "execution_count": 61,
     "metadata": {},
     "output_type": "execute_result"
    }
   ],
   "source": [
    "colors = pd.Series(['blue', 'white', 'orange', 'yellow', 'red', 'green'], dtype='category')\n",
    "colors"
   ]
  },
  {
   "cell_type": "markdown",
   "metadata": {},
   "source": [
    "## Chapter 5"
   ]
  },
  {
   "cell_type": "code",
   "execution_count": 62,
   "metadata": {},
   "outputs": [
    {
     "name": "stderr",
     "output_type": "stream",
     "text": [
      "C:\\Users\\shama\\AppData\\Local\\Temp\\ipykernel_11948\\231581158.py:2: DtypeWarning: Columns (72,74,75,77) have mixed types. Specify dtype option on import or set low_memory=False.\n",
      "  df = pd.read_csv(url)\n"
     ]
    }
   ],
   "source": [
    "url = 'vehicles.csv.zip'\n",
    "df = pd.read_csv(url)\n",
    "city_mpg = df.city08\n",
    "highway_mpg = df.highway08"
   ]
  },
  {
   "cell_type": "code",
   "execution_count": 63,
   "metadata": {},
   "outputs": [
    {
     "data": {
      "text/plain": [
       "418"
      ]
     },
     "execution_count": 63,
     "metadata": {},
     "output_type": "execute_result"
    }
   ],
   "source": [
    "len(dir(city_mpg))"
   ]
  },
  {
   "cell_type": "code",
   "execution_count": 64,
   "metadata": {},
   "outputs": [
    {
     "data": {
      "text/plain": [
       "0        25\n",
       "1        14\n",
       "2        33\n",
       "3        12\n",
       "4        23\n",
       "         ..\n",
       "46834    26\n",
       "46835    28\n",
       "46836    24\n",
       "46837    24\n",
       "46838    21\n",
       "Name: highway08, Length: 46839, dtype: int64"
      ]
     },
     "execution_count": 64,
     "metadata": {},
     "output_type": "execute_result"
    }
   ],
   "source": [
    "highway_mpg"
   ]
  },
  {
   "cell_type": "markdown",
   "metadata": {},
   "source": [
    "## 5.4 Exercises \n",
    "1. Explore the documentation for five attributes of a series from Jupyter. \n",
    "2. How many attributes are found on the .str attribute? Look at the documentation for three of them. \n",
    "3. How many attributes are found on the .dt attribute? Look at the documentation for three of them. "
   ]
  },
  {
   "cell_type": "code",
   "execution_count": 65,
   "metadata": {},
   "outputs": [
    {
     "data": {
      "text/plain": [
       "['T',\n",
       " '_AXIS_LEN',\n",
       " '_AXIS_ORDERS',\n",
       " '_AXIS_TO_AXIS_NUMBER',\n",
       " '_HANDLED_TYPES',\n",
       " '__abs__',\n",
       " '__add__',\n",
       " '__and__',\n",
       " '__annotations__',\n",
       " '__array__',\n",
       " '__array_priority__',\n",
       " '__array_ufunc__',\n",
       " '__bool__',\n",
       " '__class__',\n",
       " '__column_consortium_standard__',\n",
       " '__contains__',\n",
       " '__copy__',\n",
       " '__deepcopy__',\n",
       " '__delattr__',\n",
       " '__delitem__']"
      ]
     },
     "execution_count": 65,
     "metadata": {},
     "output_type": "execute_result"
    }
   ],
   "source": [
    "dir(city_mpg)[:20]\n"
   ]
  },
  {
   "cell_type": "code",
   "execution_count": 66,
   "metadata": {},
   "outputs": [
    {
     "name": "stdout",
     "output_type": "stream",
     "text": [
      "There are 100 attributes foiund on the .str attribute\n"
     ]
    }
   ],
   "source": [
    "s_str = pd.Series(['a','b','c'])\n",
    "\n",
    "n_attributes = len(dir(s_str.str))\n",
    "\n",
    "print('There are {} attributes foiund on the .str attribute'.format(n_attributes))"
   ]
  },
  {
   "cell_type": "code",
   "execution_count": 67,
   "metadata": {},
   "outputs": [
    {
     "name": "stdout",
     "output_type": "stream",
     "text": [
      "There are 84 attributes foiund on the .dt attribute\n"
     ]
    }
   ],
   "source": [
    "s_ts = pd.to_datetime(pd.Series(['2022-01-01','2022-01-02','2022-01-03']))\n",
    "\n",
    "n_attributes = len(dir(s_ts.dt))\n",
    "\n",
    "print('There are {} attributes foiund on the .dt attribute'.format(n_attributes))"
   ]
  },
  {
   "cell_type": "code",
   "execution_count": 68,
   "metadata": {},
   "outputs": [
    {
     "data": {
      "text/plain": [
       "RangeIndex(start=0, stop=46839, step=1)"
      ]
     },
     "execution_count": 68,
     "metadata": {},
     "output_type": "execute_result"
    }
   ],
   "source": [
    "#The index of a Series is used to label and identify each element of the underlying data. \n",
    "#The index can be thought of as an immutable ordered set (technically a multi-set, as \n",
    "# it may contain duplicate labels), and is used to index and align data in pandas.\n",
    "city_mpg.index"
   ]
  },
  {
   "cell_type": "code",
   "execution_count": 69,
   "metadata": {},
   "outputs": [
    {
     "data": {
      "text/plain": [
       "<NumpyExtensionArray>\n",
       "[19,  9, 23, 10, 17, 21, 22, 23, 23, 23,\n",
       " ...\n",
       " 18, 23, 21, 24, 21, 19, 20, 18, 18, 16]\n",
       "Length: 46839, dtype: int64"
      ]
     },
     "execution_count": 69,
     "metadata": {},
     "output_type": "execute_result"
    }
   ],
   "source": [
    "# An ExtensionArray of the values stored within. For extension types, \n",
    "# this is the actual array. For NumPy native types, \n",
    "# this is a thin (no copy) wrapper around numpy.ndarray.\n",
    "#.array differs .values which may require converting the data to a different form.\n",
    "city_mpg.array"
   ]
  },
  {
   "cell_type": "code",
   "execution_count": 70,
   "metadata": {},
   "outputs": [
    {
     "data": {
      "text/plain": [
       "array([19,  9, 23, ..., 18, 18, 16], dtype=int64)"
      ]
     },
     "execution_count": 70,
     "metadata": {},
     "output_type": "execute_result"
    }
   ],
   "source": [
    "# Return Series as ndarray or ndarray-like depending on the dtype.\n",
    "city_mpg.values"
   ]
  },
  {
   "cell_type": "code",
   "execution_count": 71,
   "metadata": {},
   "outputs": [
    {
     "data": {
      "text/plain": [
       "<bound method NDFrame.abs of 0        19\n",
       "1         9\n",
       "2        23\n",
       "3        10\n",
       "4        17\n",
       "         ..\n",
       "46834    19\n",
       "46835    20\n",
       "46836    18\n",
       "46837    18\n",
       "46838    16\n",
       "Name: city08, Length: 46839, dtype: int64>"
      ]
     },
     "execution_count": 71,
     "metadata": {},
     "output_type": "execute_result"
    }
   ],
   "source": [
    "# Return a Series/DataFrame with absolute numeric value of each element.\n",
    "# This function only applies to elements that are all numeric.\n",
    "city_mpg.abs"
   ]
  },
  {
   "cell_type": "code",
   "execution_count": 72,
   "metadata": {},
   "outputs": [
    {
     "data": {
      "text/plain": [
       "dtype('int64')"
      ]
     },
     "execution_count": 72,
     "metadata": {},
     "output_type": "execute_result"
    }
   ],
   "source": [
    "# Return the dtype object of the underlying data.\n",
    "city_mpg.dtype"
   ]
  },
  {
   "cell_type": "markdown",
   "metadata": {},
   "source": [
    "## Chapter 6"
   ]
  },
  {
   "cell_type": "code",
   "execution_count": 73,
   "metadata": {},
   "outputs": [
    {
     "data": {
      "text/plain": [
       "0        22.0\n",
       "1        11.5\n",
       "2        28.0\n",
       "3        11.0\n",
       "4        20.0\n",
       "         ... \n",
       "46834    22.5\n",
       "46835    24.0\n",
       "46836    21.0\n",
       "46837    21.0\n",
       "46838    18.5\n",
       "Length: 46839, dtype: float64"
      ]
     },
     "execution_count": 73,
     "metadata": {},
     "output_type": "execute_result"
    }
   ],
   "source": [
    "(city_mpg + highway_mpg)/2"
   ]
  },
  {
   "cell_type": "code",
   "execution_count": 74,
   "metadata": {},
   "outputs": [],
   "source": [
    "s1 = pd.Series([10, 20, 30], index=[1,2,2])\n",
    "s2 = pd.Series([35, 44, 53], index=[2,2,4], name='s2')"
   ]
  },
  {
   "cell_type": "code",
   "execution_count": 75,
   "metadata": {},
   "outputs": [
    {
     "data": {
      "text/plain": [
       "1    10\n",
       "2    20\n",
       "2    30\n",
       "dtype: int64"
      ]
     },
     "execution_count": 75,
     "metadata": {},
     "output_type": "execute_result"
    }
   ],
   "source": [
    "s1"
   ]
  },
  {
   "cell_type": "code",
   "execution_count": 76,
   "metadata": {},
   "outputs": [
    {
     "data": {
      "text/plain": [
       "2    35\n",
       "2    44\n",
       "4    53\n",
       "Name: s2, dtype: int64"
      ]
     },
     "execution_count": 76,
     "metadata": {},
     "output_type": "execute_result"
    }
   ],
   "source": [
    "s2"
   ]
  },
  {
   "cell_type": "code",
   "execution_count": 77,
   "metadata": {},
   "outputs": [
    {
     "data": {
      "text/plain": [
       "1    10.0\n",
       "2    55.0\n",
       "2    64.0\n",
       "2    65.0\n",
       "2    74.0\n",
       "4    53.0\n",
       "dtype: float64"
      ]
     },
     "execution_count": 77,
     "metadata": {},
     "output_type": "execute_result"
    }
   ],
   "source": [
    "s1.add(s2, fill_value=0)"
   ]
  },
  {
   "cell_type": "code",
   "execution_count": 78,
   "metadata": {},
   "outputs": [
    {
     "data": {
      "text/plain": [
       "0        22.0\n",
       "1        11.5\n",
       "2        28.0\n",
       "3        11.0\n",
       "4        20.0\n",
       "         ... \n",
       "46834    22.5\n",
       "46835    24.0\n",
       "46836    21.0\n",
       "46837    21.0\n",
       "46838    18.5\n",
       "Length: 46839, dtype: float64"
      ]
     },
     "execution_count": 78,
     "metadata": {},
     "output_type": "execute_result"
    }
   ],
   "source": [
    "((city_mpg +highway_mpg)/2)"
   ]
  },
  {
   "cell_type": "code",
   "execution_count": 79,
   "metadata": {},
   "outputs": [
    {
     "data": {
      "text/plain": [
       "0        22.0\n",
       "1        11.5\n",
       "2        28.0\n",
       "3        11.0\n",
       "4        20.0\n",
       "         ... \n",
       "46834    22.5\n",
       "46835    24.0\n",
       "46836    21.0\n",
       "46837    21.0\n",
       "46838    18.5\n",
       "Length: 46839, dtype: float64"
      ]
     },
     "execution_count": 79,
     "metadata": {},
     "output_type": "execute_result"
    }
   ],
   "source": [
    "(city_mpg.add(highway_mpg).div(2))"
   ]
  },
  {
   "cell_type": "markdown",
   "metadata": {},
   "source": [
    "## 6.9 Exercises With a dataset of your choice: \n",
    "1. Add a numeric series to itself. \n",
    "2. Add 10 to a numeric series. \n",
    "3. Add a numeric series to itself using the .add method. \n",
    "4. Read the documentation for the .add method."
   ]
  },
  {
   "cell_type": "code",
   "execution_count": 80,
   "metadata": {},
   "outputs": [
    {
     "data": {
      "text/plain": [
       "1    20\n",
       "2    40\n",
       "2    60\n",
       "dtype: int64"
      ]
     },
     "execution_count": 80,
     "metadata": {},
     "output_type": "execute_result"
    }
   ],
   "source": [
    "s1 + s1"
   ]
  },
  {
   "cell_type": "code",
   "execution_count": 81,
   "metadata": {},
   "outputs": [
    {
     "data": {
      "text/plain": [
       "1    20\n",
       "2    30\n",
       "2    40\n",
       "dtype: int64"
      ]
     },
     "execution_count": 81,
     "metadata": {},
     "output_type": "execute_result"
    }
   ],
   "source": [
    "s1 + 10"
   ]
  },
  {
   "cell_type": "code",
   "execution_count": 82,
   "metadata": {},
   "outputs": [
    {
     "data": {
      "text/plain": [
       "1    20\n",
       "2    40\n",
       "2    60\n",
       "dtype: int64"
      ]
     },
     "execution_count": 82,
     "metadata": {},
     "output_type": "execute_result"
    }
   ],
   "source": [
    "s1.add(s1)"
   ]
  },
  {
   "cell_type": "markdown",
   "metadata": {},
   "source": [
    "## Chapter 7"
   ]
  },
  {
   "cell_type": "code",
   "execution_count": 83,
   "metadata": {},
   "outputs": [
    {
     "data": {
      "text/plain": [
       "0.1    13.0\n",
       "0.5    18.0\n",
       "0.9    25.0\n",
       "Name: city08, dtype: float64"
      ]
     },
     "execution_count": 83,
     "metadata": {},
     "output_type": "execute_result"
    }
   ],
   "source": [
    "city_mpg.quantile([.1, .5, .9])"
   ]
  },
  {
   "cell_type": "code",
   "execution_count": 84,
   "metadata": {},
   "outputs": [
    {
     "data": {
      "text/plain": [
       "13013"
      ]
     },
     "execution_count": 84,
     "metadata": {},
     "output_type": "execute_result"
    }
   ],
   "source": [
    "(city_mpg.gt(20).sum())"
   ]
  },
  {
   "cell_type": "code",
   "execution_count": 85,
   "metadata": {},
   "outputs": [
    {
     "data": {
      "text/plain": [
       "27.78240355259506"
      ]
     },
     "execution_count": 85,
     "metadata": {},
     "output_type": "execute_result"
    }
   ],
   "source": [
    "(city_mpg.gt(20).mul(100).mean())"
   ]
  },
  {
   "cell_type": "code",
   "execution_count": 86,
   "metadata": {},
   "outputs": [
    {
     "data": {
      "text/plain": [
       "19.35075471295288"
      ]
     },
     "execution_count": 86,
     "metadata": {},
     "output_type": "execute_result"
    }
   ],
   "source": [
    "city_mpg.agg('mean')"
   ]
  },
  {
   "cell_type": "code",
   "execution_count": 87,
   "metadata": {},
   "outputs": [],
   "source": [
    "def second_to_last(s):\n",
    "    return s.iloc[-2]"
   ]
  },
  {
   "cell_type": "code",
   "execution_count": 88,
   "metadata": {},
   "outputs": [
    {
     "data": {
      "text/plain": [
       "mean               19.350755\n",
       "var               121.582272\n",
       "max               153.000000\n",
       "second_to_last     18.000000\n",
       "Name: city08, dtype: float64"
      ]
     },
     "execution_count": 88,
     "metadata": {},
     "output_type": "execute_result"
    }
   ],
   "source": [
    "city_mpg.agg(['mean', 'var', 'max', second_to_last])"
   ]
  },
  {
   "cell_type": "markdown",
   "metadata": {},
   "source": [
    "## 7.5 Exercises With a dataset of your choice: \n",
    "1. Find the count of non-missing values of a series. \n",
    "2. Find the number of entries of a series. \n",
    "3. Find the number of unique entries of a series. \n",
    "4. Find the mean value of a series.\n",
    "5. Find the maximum value of a series. \n",
    "6. Use the .agg method to find all of the above."
   ]
  },
  {
   "cell_type": "code",
   "execution_count": 89,
   "metadata": {},
   "outputs": [
    {
     "data": {
      "text/plain": [
       "46839"
      ]
     },
     "execution_count": 89,
     "metadata": {},
     "output_type": "execute_result"
    }
   ],
   "source": [
    "city_mpg.count()"
   ]
  },
  {
   "cell_type": "code",
   "execution_count": 90,
   "metadata": {},
   "outputs": [
    {
     "data": {
      "text/plain": [
       "46839"
      ]
     },
     "execution_count": 90,
     "metadata": {},
     "output_type": "execute_result"
    }
   ],
   "source": [
    "city_mpg.size"
   ]
  },
  {
   "cell_type": "code",
   "execution_count": 91,
   "metadata": {},
   "outputs": [
    {
     "data": {
      "text/plain": [
       "134"
      ]
     },
     "execution_count": 91,
     "metadata": {},
     "output_type": "execute_result"
    }
   ],
   "source": [
    "city_mpg.nunique()"
   ]
  },
  {
   "cell_type": "code",
   "execution_count": 92,
   "metadata": {},
   "outputs": [
    {
     "data": {
      "text/plain": [
       "134"
      ]
     },
     "execution_count": 92,
     "metadata": {},
     "output_type": "execute_result"
    }
   ],
   "source": [
    "city_mpg.nunique(dropna=True)"
   ]
  },
  {
   "cell_type": "code",
   "execution_count": 93,
   "metadata": {},
   "outputs": [
    {
     "data": {
      "text/plain": [
       "19.35075471295288"
      ]
     },
     "execution_count": 93,
     "metadata": {},
     "output_type": "execute_result"
    }
   ],
   "source": [
    "city_mpg.mean()"
   ]
  },
  {
   "cell_type": "code",
   "execution_count": 94,
   "metadata": {},
   "outputs": [
    {
     "data": {
      "text/plain": [
       "153"
      ]
     },
     "execution_count": 94,
     "metadata": {},
     "output_type": "execute_result"
    }
   ],
   "source": [
    "city_mpg.max()"
   ]
  },
  {
   "cell_type": "code",
   "execution_count": 95,
   "metadata": {},
   "outputs": [
    {
     "data": {
      "text/plain": [
       "count      46839.000000\n",
       "size       46839.000000\n",
       "nunique      134.000000\n",
       "mean          19.350755\n",
       "max          153.000000\n",
       "Name: city08, dtype: float64"
      ]
     },
     "execution_count": 95,
     "metadata": {},
     "output_type": "execute_result"
    }
   ],
   "source": [
    "city_mpg.agg(['count', 'size', 'nunique', 'mean', 'max'])"
   ]
  },
  {
   "cell_type": "markdown",
   "metadata": {},
   "source": [
    "## Chapter 8 "
   ]
  },
  {
   "cell_type": "code",
   "execution_count": 96,
   "metadata": {},
   "outputs": [
    {
     "data": {
      "text/plain": [
       "0        19\n",
       "1         9\n",
       "2        23\n",
       "3        10\n",
       "4        17\n",
       "         ..\n",
       "46834    19\n",
       "46835    20\n",
       "46836    18\n",
       "46837    18\n",
       "46838    16\n",
       "Name: city08, Length: 46839, dtype: Int64"
      ]
     },
     "execution_count": 96,
     "metadata": {},
     "output_type": "execute_result"
    }
   ],
   "source": [
    "city_mpg.convert_dtypes()"
   ]
  },
  {
   "cell_type": "code",
   "execution_count": 97,
   "metadata": {},
   "outputs": [
    {
     "data": {
      "text/plain": [
       "0        19\n",
       "1         9\n",
       "2        23\n",
       "3        10\n",
       "4        17\n",
       "         ..\n",
       "46834    19\n",
       "46835    20\n",
       "46836    18\n",
       "46837    18\n",
       "46838    16\n",
       "Name: city08, Length: 46839, dtype: Int16"
      ]
     },
     "execution_count": 97,
     "metadata": {},
     "output_type": "execute_result"
    }
   ],
   "source": [
    "city_mpg.astype('Int16')"
   ]
  },
  {
   "cell_type": "code",
   "execution_count": 98,
   "metadata": {},
   "outputs": [
    {
     "data": {
      "text/plain": [
       "finfo(resolution=1e-15, min=-1.7976931348623157e+308, max=1.7976931348623157e+308, dtype=float64)"
      ]
     },
     "execution_count": 98,
     "metadata": {},
     "output_type": "execute_result"
    }
   ],
   "source": [
    "np.finfo('float64')"
   ]
  },
  {
   "cell_type": "code",
   "execution_count": 99,
   "metadata": {},
   "outputs": [
    {
     "data": {
      "text/plain": [
       "374712"
      ]
     },
     "execution_count": 99,
     "metadata": {},
     "output_type": "execute_result"
    }
   ],
   "source": [
    "city_mpg.nbytes"
   ]
  },
  {
   "cell_type": "code",
   "execution_count": 100,
   "metadata": {},
   "outputs": [
    {
     "data": {
      "text/plain": [
       "140517"
      ]
     },
     "execution_count": 100,
     "metadata": {},
     "output_type": "execute_result"
    }
   ],
   "source": [
    "city_mpg.astype('Int16').nbytes"
   ]
  },
  {
   "cell_type": "code",
   "execution_count": 101,
   "metadata": {},
   "outputs": [
    {
     "data": {
      "text/plain": [
       "374712"
      ]
     },
     "execution_count": 101,
     "metadata": {},
     "output_type": "execute_result"
    }
   ],
   "source": [
    "make = df.make\n",
    "make.nbytes"
   ]
  },
  {
   "cell_type": "code",
   "execution_count": 102,
   "metadata": {},
   "outputs": [
    {
     "data": {
      "text/plain": [
       "374840"
      ]
     },
     "execution_count": 102,
     "metadata": {},
     "output_type": "execute_result"
    }
   ],
   "source": [
    "make.memory_usage()"
   ]
  },
  {
   "cell_type": "code",
   "execution_count": 103,
   "metadata": {},
   "outputs": [
    {
     "data": {
      "text/plain": [
       "2966807"
      ]
     },
     "execution_count": 103,
     "metadata": {},
     "output_type": "execute_result"
    }
   ],
   "source": [
    "make.memory_usage(deep=True)"
   ]
  },
  {
   "cell_type": "code",
   "execution_count": 104,
   "metadata": {},
   "outputs": [
    {
     "data": {
      "text/plain": [
       "107720"
      ]
     },
     "execution_count": 104,
     "metadata": {},
     "output_type": "execute_result"
    }
   ],
   "source": [
    "make.astype('category').memory_usage(deep=True)"
   ]
  },
  {
   "cell_type": "code",
   "execution_count": 105,
   "metadata": {},
   "outputs": [
    {
     "data": {
      "text/plain": [
       "0        19\n",
       "1         9\n",
       "2        23\n",
       "3        10\n",
       "4        17\n",
       "         ..\n",
       "46834    19\n",
       "46835    20\n",
       "46836    18\n",
       "46837    18\n",
       "46838    16\n",
       "Name: city08, Length: 46839, dtype: category\n",
       "Categories (134, int64): [6, 7, 8, 9, ..., 148, 150, 151, 153]"
      ]
     },
     "execution_count": 105,
     "metadata": {},
     "output_type": "execute_result"
    }
   ],
   "source": [
    "city_mpg.astype('category')"
   ]
  },
  {
   "cell_type": "code",
   "execution_count": 106,
   "metadata": {},
   "outputs": [
    {
     "data": {
      "text/plain": [
       "0        19\n",
       "1         9\n",
       "2        23\n",
       "3        10\n",
       "4        17\n",
       "         ..\n",
       "46834    19\n",
       "46835    20\n",
       "46836    18\n",
       "46837    18\n",
       "46838    16\n",
       "Name: city08, Length: 46839, dtype: category\n",
       "Categories (134, int64): [6 < 7 < 8 < 9 ... 148 < 150 < 151 < 153]"
      ]
     },
     "execution_count": 106,
     "metadata": {},
     "output_type": "execute_result"
    }
   ],
   "source": [
    "values = pd.Series(sorted(set(city_mpg)))\n",
    "city_type = pd.CategoricalDtype(categories=values, ordered=True)\n",
    "city_mpg.astype(city_type)"
   ]
  },
  {
   "cell_type": "code",
   "execution_count": 107,
   "metadata": {},
   "outputs": [
    {
     "data": {
      "text/html": [
       "<div>\n",
       "<style scoped>\n",
       "    .dataframe tbody tr th:only-of-type {\n",
       "        vertical-align: middle;\n",
       "    }\n",
       "\n",
       "    .dataframe tbody tr th {\n",
       "        vertical-align: top;\n",
       "    }\n",
       "\n",
       "    .dataframe thead th {\n",
       "        text-align: right;\n",
       "    }\n",
       "</style>\n",
       "<table border=\"1\" class=\"dataframe\">\n",
       "  <thead>\n",
       "    <tr style=\"text-align: right;\">\n",
       "      <th></th>\n",
       "      <th>city08</th>\n",
       "    </tr>\n",
       "  </thead>\n",
       "  <tbody>\n",
       "    <tr>\n",
       "      <th>0</th>\n",
       "      <td>19</td>\n",
       "    </tr>\n",
       "    <tr>\n",
       "      <th>1</th>\n",
       "      <td>9</td>\n",
       "    </tr>\n",
       "    <tr>\n",
       "      <th>2</th>\n",
       "      <td>23</td>\n",
       "    </tr>\n",
       "    <tr>\n",
       "      <th>3</th>\n",
       "      <td>10</td>\n",
       "    </tr>\n",
       "    <tr>\n",
       "      <th>4</th>\n",
       "      <td>17</td>\n",
       "    </tr>\n",
       "    <tr>\n",
       "      <th>...</th>\n",
       "      <td>...</td>\n",
       "    </tr>\n",
       "    <tr>\n",
       "      <th>46834</th>\n",
       "      <td>19</td>\n",
       "    </tr>\n",
       "    <tr>\n",
       "      <th>46835</th>\n",
       "      <td>20</td>\n",
       "    </tr>\n",
       "    <tr>\n",
       "      <th>46836</th>\n",
       "      <td>18</td>\n",
       "    </tr>\n",
       "    <tr>\n",
       "      <th>46837</th>\n",
       "      <td>18</td>\n",
       "    </tr>\n",
       "    <tr>\n",
       "      <th>46838</th>\n",
       "      <td>16</td>\n",
       "    </tr>\n",
       "  </tbody>\n",
       "</table>\n",
       "<p>46839 rows × 1 columns</p>\n",
       "</div>"
      ],
      "text/plain": [
       "       city08\n",
       "0          19\n",
       "1           9\n",
       "2          23\n",
       "3          10\n",
       "4          17\n",
       "...       ...\n",
       "46834      19\n",
       "46835      20\n",
       "46836      18\n",
       "46837      18\n",
       "46838      16\n",
       "\n",
       "[46839 rows x 1 columns]"
      ]
     },
     "execution_count": 107,
     "metadata": {},
     "output_type": "execute_result"
    }
   ],
   "source": [
    "city_mpg.to_frame()"
   ]
  },
  {
   "cell_type": "markdown",
   "metadata": {},
   "source": [
    "## 8.7 Exercises With a dataset of your choice: \n",
    "1. Convert a numeric column to a smaller type. \n",
    "2. Calculate the memory savings by converting to smaller numeric types. \n",
    "3. Convert a string column into a categorical type. \n",
    "4. Calculate the memory savings by converting to a categorical type."
   ]
  },
  {
   "cell_type": "code",
   "execution_count": 108,
   "metadata": {},
   "outputs": [
    {
     "data": {
      "text/plain": [
       "0        25\n",
       "1        14\n",
       "2        33\n",
       "3        12\n",
       "4        23\n",
       "         ..\n",
       "46834    26\n",
       "46835    28\n",
       "46836    24\n",
       "46837    24\n",
       "46838    21\n",
       "Name: highway08, Length: 46839, dtype: int64"
      ]
     },
     "execution_count": 108,
     "metadata": {},
     "output_type": "execute_result"
    }
   ],
   "source": [
    "highway_mpg"
   ]
  },
  {
   "cell_type": "code",
   "execution_count": 109,
   "metadata": {},
   "outputs": [
    {
     "data": {
      "text/plain": [
       "374712"
      ]
     },
     "execution_count": 109,
     "metadata": {},
     "output_type": "execute_result"
    }
   ],
   "source": [
    "highway_mpg.nbytes"
   ]
  },
  {
   "cell_type": "code",
   "execution_count": 110,
   "metadata": {},
   "outputs": [
    {
     "data": {
      "text/plain": [
       "140517"
      ]
     },
     "execution_count": 110,
     "metadata": {},
     "output_type": "execute_result"
    }
   ],
   "source": [
    "highway_mpg.astype('Int16').nbytes"
   ]
  },
  {
   "cell_type": "code",
   "execution_count": 111,
   "metadata": {},
   "outputs": [
    {
     "data": {
      "text/plain": [
       "374712"
      ]
     },
     "execution_count": 111,
     "metadata": {},
     "output_type": "execute_result"
    }
   ],
   "source": [
    "createdOn = df.createdOn \n",
    "createdOn.nbytes"
   ]
  },
  {
   "cell_type": "code",
   "execution_count": 112,
   "metadata": {},
   "outputs": [
    {
     "data": {
      "text/plain": [
       "97262"
      ]
     },
     "execution_count": 112,
     "metadata": {},
     "output_type": "execute_result"
    }
   ],
   "source": [
    "createdOn.astype('category').nbytes"
   ]
  },
  {
   "cell_type": "markdown",
   "metadata": {},
   "source": [
    "## Chapter 9 Manipulation Methods"
   ]
  },
  {
   "cell_type": "code",
   "execution_count": 113,
   "metadata": {},
   "outputs": [],
   "source": [
    "def gt20(val):\n",
    "    return val > 20"
   ]
  },
  {
   "cell_type": "code",
   "execution_count": 114,
   "metadata": {},
   "outputs": [
    {
     "name": "stdout",
     "output_type": "stream",
     "text": [
      "8 ms ± 183 µs per loop (mean ± std. dev. of 7 runs, 100 loops each)\n"
     ]
    }
   ],
   "source": [
    "%%timeit\n",
    "city_mpg.apply(gt20)"
   ]
  },
  {
   "cell_type": "code",
   "execution_count": 115,
   "metadata": {},
   "outputs": [
    {
     "name": "stdout",
     "output_type": "stream",
     "text": [
      "83.1 µs ± 755 ns per loop (mean ± std. dev. of 7 runs, 10,000 loops each)\n"
     ]
    }
   ],
   "source": [
    "%%timeit\n",
    "city_mpg.gt(20)"
   ]
  },
  {
   "cell_type": "code",
   "execution_count": 153,
   "metadata": {},
   "outputs": [
    {
     "data": {
      "text/plain": [
       "0        Alfa Romeo\n",
       "1           Ferrari\n",
       "2             Dodge\n",
       "3             Dodge\n",
       "4            Subaru\n",
       "            ...    \n",
       "46834        Subaru\n",
       "46835        Subaru\n",
       "46836        Subaru\n",
       "46837        Subaru\n",
       "46838        Subaru\n",
       "Name: make, Length: 46839, dtype: object"
      ]
     },
     "execution_count": 153,
     "metadata": {},
     "output_type": "execute_result"
    }
   ],
   "source": [
    "make = df.make\n",
    "make"
   ]
  },
  {
   "cell_type": "code",
   "execution_count": 117,
   "metadata": {},
   "outputs": [
    {
     "data": {
      "text/plain": [
       "make\n",
       "Chevrolet                        4388\n",
       "Ford                             3765\n",
       "GMC                              2760\n",
       "Dodge                            2682\n",
       "BMW                              2424\n",
       "                                 ... \n",
       "Volga Associated Automobile         1\n",
       "Panos                               1\n",
       "Panoz Auto-Development              1\n",
       "London Taxi                         1\n",
       "Import Foreign Auto Sales Inc       1\n",
       "Name: count, Length: 143, dtype: int64"
      ]
     },
     "execution_count": 117,
     "metadata": {},
     "output_type": "execute_result"
    }
   ],
   "source": [
    "make.value_counts()"
   ]
  },
  {
   "cell_type": "code",
   "execution_count": 118,
   "metadata": {},
   "outputs": [],
   "source": [
    "top5 = make.value_counts().index[:5]\n",
    "def generalize_top5(val):\n",
    "    if val in top5:\n",
    "        return val\n",
    "    return 'Other'"
   ]
  },
  {
   "cell_type": "code",
   "execution_count": 119,
   "metadata": {},
   "outputs": [
    {
     "name": "stdout",
     "output_type": "stream",
     "text": [
      "64.4 ms ± 1.07 ms per loop (mean ± std. dev. of 7 runs, 10 loops each)\n"
     ]
    }
   ],
   "source": [
    "%%timeit\n",
    "make.apply(generalize_top5)"
   ]
  },
  {
   "cell_type": "code",
   "execution_count": 120,
   "metadata": {},
   "outputs": [
    {
     "data": {
      "text/plain": [
       "0        Other\n",
       "1        Other\n",
       "2        Dodge\n",
       "3        Dodge\n",
       "4        Other\n",
       "         ...  \n",
       "46834    Other\n",
       "46835    Other\n",
       "46836    Other\n",
       "46837    Other\n",
       "46838    Other\n",
       "Name: make, Length: 46839, dtype: object"
      ]
     },
     "execution_count": 120,
     "metadata": {},
     "output_type": "execute_result"
    }
   ],
   "source": [
    "#%%timeit\n",
    "make.where(make.isin(top5), other='Other')"
   ]
  },
  {
   "cell_type": "code",
   "execution_count": 121,
   "metadata": {},
   "outputs": [
    {
     "data": {
      "text/plain": [
       "0        Other\n",
       "1        Other\n",
       "2        Dodge\n",
       "3        Dodge\n",
       "4        Other\n",
       "         ...  \n",
       "46834    Other\n",
       "46835    Other\n",
       "46836    Other\n",
       "46837    Other\n",
       "46838    Other\n",
       "Name: make, Length: 46839, dtype: object"
      ]
     },
     "execution_count": 121,
     "metadata": {},
     "output_type": "execute_result"
    }
   ],
   "source": [
    "make.mask(~make.isin(top5), other='Other')"
   ]
  },
  {
   "cell_type": "code",
   "execution_count": 122,
   "metadata": {},
   "outputs": [],
   "source": [
    "vc = make.value_counts()\n",
    "top5 = vc.index[:5]\n",
    "top10 = vc.index[:10]\n",
    "def generalize(val):\n",
    "    if val in top5:\n",
    "        return val\n",
    "    elif val in top10:\n",
    "        return 'Top10'\n",
    "    else:\n",
    "        return 'Other'"
   ]
  },
  {
   "cell_type": "code",
   "execution_count": 123,
   "metadata": {},
   "outputs": [
    {
     "data": {
      "text/plain": [
       "0        Other\n",
       "1        Other\n",
       "2        Dodge\n",
       "3        Dodge\n",
       "4        Other\n",
       "         ...  \n",
       "46834    Other\n",
       "46835    Other\n",
       "46836    Other\n",
       "46837    Other\n",
       "46838    Other\n",
       "Name: make, Length: 46839, dtype: object"
      ]
     },
     "execution_count": 123,
     "metadata": {},
     "output_type": "execute_result"
    }
   ],
   "source": [
    "make.apply(generalize)"
   ]
  },
  {
   "cell_type": "code",
   "execution_count": 124,
   "metadata": {},
   "outputs": [
    {
     "data": {
      "text/plain": [
       "0        Other\n",
       "1        Other\n",
       "2        Dodge\n",
       "3        Dodge\n",
       "4        Other\n",
       "         ...  \n",
       "46834    Other\n",
       "46835    Other\n",
       "46836    Other\n",
       "46837    Other\n",
       "46838    Other\n",
       "Name: make, Length: 46839, dtype: object"
      ]
     },
     "execution_count": 124,
     "metadata": {},
     "output_type": "execute_result"
    }
   ],
   "source": [
    "(make\n",
    " .where(make.isin(top5), 'Top10')\n",
    " .where(make.isin(top10), 'Other')\n",
    " )"
   ]
  },
  {
   "cell_type": "code",
   "execution_count": 127,
   "metadata": {},
   "outputs": [
    {
     "data": {
      "text/plain": [
       "0        Other\n",
       "1        Other\n",
       "2        Dodge\n",
       "3        Dodge\n",
       "4        Other\n",
       "         ...  \n",
       "46834    Other\n",
       "46835    Other\n",
       "46836    Other\n",
       "46837    Other\n",
       "46838    Other\n",
       "Length: 46839, dtype: object"
      ]
     },
     "execution_count": 127,
     "metadata": {},
     "output_type": "execute_result"
    }
   ],
   "source": [
    "pd.Series(np.select([make.isin(top5), make.isin(top10)],\n",
    "    [make, 'top10'], 'Other'), index=make.index)"
   ]
  },
  {
   "cell_type": "code",
   "execution_count": 128,
   "metadata": {},
   "outputs": [
    {
     "data": {
      "text/plain": [
       "603"
      ]
     },
     "execution_count": 128,
     "metadata": {},
     "output_type": "execute_result"
    }
   ],
   "source": [
    "cyl = df.cylinders\n",
    "(cyl.isna().sum())"
   ]
  },
  {
   "cell_type": "code",
   "execution_count": 129,
   "metadata": {},
   "outputs": [
    {
     "data": {
      "text/plain": [
       "7138      Nissan\n",
       "7139      Toyota\n",
       "8143      Toyota\n",
       "8144        Ford\n",
       "8146        Ford\n",
       "          ...   \n",
       "40674     Rivian\n",
       "40675     Rivian\n",
       "40676     Rivian\n",
       "40677    Vinfast\n",
       "40678    Vinfast\n",
       "Name: make, Length: 603, dtype: object"
      ]
     },
     "execution_count": 129,
     "metadata": {},
     "output_type": "execute_result"
    }
   ],
   "source": [
    "missing = cyl.isna()\n",
    "make.loc[missing]"
   ]
  },
  {
   "cell_type": "code",
   "execution_count": 130,
   "metadata": {},
   "outputs": [
    {
     "data": {
      "text/plain": [
       "7138    NaN\n",
       "7139    NaN\n",
       "8143    NaN\n",
       "8144    NaN\n",
       "8146    NaN\n",
       "         ..\n",
       "40674   NaN\n",
       "40675   NaN\n",
       "40676   NaN\n",
       "40677   NaN\n",
       "40678   NaN\n",
       "Name: cylinders, Length: 603, dtype: float64"
      ]
     },
     "execution_count": 130,
     "metadata": {},
     "output_type": "execute_result"
    }
   ],
   "source": [
    "cyl[cyl.isna()]"
   ]
  },
  {
   "cell_type": "code",
   "execution_count": 131,
   "metadata": {},
   "outputs": [
    {
     "data": {
      "text/plain": [
       "7136    6.0\n",
       "7137    6.0\n",
       "7138    0.0\n",
       "7139    0.0\n",
       "7140    6.0\n",
       "7141    6.0\n",
       "Name: cylinders, dtype: float64"
      ]
     },
     "execution_count": 131,
     "metadata": {},
     "output_type": "execute_result"
    }
   ],
   "source": [
    "cyl.fillna(0).loc[7136:7141]"
   ]
  },
  {
   "cell_type": "code",
   "execution_count": 133,
   "metadata": {},
   "outputs": [
    {
     "data": {
      "text/plain": [
       "0    32.0\n",
       "1    40.0\n",
       "2     NaN\n",
       "3    42.0\n",
       "4    39.0\n",
       "5    32.0\n",
       "dtype: float64"
      ]
     },
     "execution_count": 133,
     "metadata": {},
     "output_type": "execute_result"
    }
   ],
   "source": [
    "temp = pd.Series([32, 40, None, 42, 39, 32])\n",
    "temp"
   ]
  },
  {
   "cell_type": "code",
   "execution_count": 134,
   "metadata": {},
   "outputs": [
    {
     "data": {
      "text/plain": [
       "0    32.0\n",
       "1    40.0\n",
       "2    41.0\n",
       "3    42.0\n",
       "4    39.0\n",
       "5    32.0\n",
       "dtype: float64"
      ]
     },
     "execution_count": 134,
     "metadata": {},
     "output_type": "execute_result"
    }
   ],
   "source": [
    "temp.interpolate()"
   ]
  },
  {
   "cell_type": "code",
   "execution_count": 135,
   "metadata": {},
   "outputs": [
    {
     "data": {
      "text/plain": [
       "0      19\n",
       "1       9\n",
       "2      23\n",
       "3      10\n",
       "4      17\n",
       "       ..\n",
       "442    15\n",
       "443    15\n",
       "444    15\n",
       "445    15\n",
       "446    31\n",
       "Name: city08, Length: 447, dtype: int64"
      ]
     },
     "execution_count": 135,
     "metadata": {},
     "output_type": "execute_result"
    }
   ],
   "source": [
    "city_mpg.loc[:446]"
   ]
  },
  {
   "cell_type": "code",
   "execution_count": 136,
   "metadata": {},
   "outputs": [
    {
     "data": {
      "text/plain": [
       "0      19\n",
       "1      11\n",
       "2      23\n",
       "3      11\n",
       "4      17\n",
       "       ..\n",
       "442    15\n",
       "443    15\n",
       "444    15\n",
       "445    15\n",
       "446    28\n",
       "Name: city08, Length: 447, dtype: int64"
      ]
     },
     "execution_count": 136,
     "metadata": {},
     "output_type": "execute_result"
    }
   ],
   "source": [
    "(\n",
    "    city_mpg\n",
    "    .loc[:446]\n",
    "    .clip(lower=city_mpg.quantile(.05),\n",
    "          upper=city_mpg.quantile(.95))\n",
    ")"
   ]
  },
  {
   "cell_type": "code",
   "execution_count": 137,
   "metadata": {},
   "outputs": [
    {
     "data": {
      "text/plain": [
       "42856      6\n",
       "41582      6\n",
       "34522      6\n",
       "21057      6\n",
       "7901       6\n",
       "        ... \n",
       "31226    150\n",
       "40625    151\n",
       "40256    151\n",
       "40623    153\n",
       "40254    153\n",
       "Name: city08, Length: 46839, dtype: int64"
      ]
     },
     "execution_count": 137,
     "metadata": {},
     "output_type": "execute_result"
    }
   ],
   "source": [
    "city_mpg.sort_values()"
   ]
  },
  {
   "cell_type": "code",
   "execution_count": 138,
   "metadata": {},
   "outputs": [
    {
     "data": {
      "text/plain": [
       "0        22.0\n",
       "1        11.5\n",
       "2        28.0\n",
       "3        11.0\n",
       "4        20.0\n",
       "         ... \n",
       "46834    22.5\n",
       "46835    24.0\n",
       "46836    21.0\n",
       "46837    21.0\n",
       "46838    18.5\n",
       "Length: 46839, dtype: float64"
      ]
     },
     "execution_count": 138,
     "metadata": {},
     "output_type": "execute_result"
    }
   ],
   "source": [
    "(city_mpg.sort_values() + highway_mpg)/2"
   ]
  },
  {
   "cell_type": "code",
   "execution_count": 139,
   "metadata": {},
   "outputs": [
    {
     "data": {
      "text/plain": [
       "0        19\n",
       "1         9\n",
       "2        23\n",
       "3        10\n",
       "4        17\n",
       "         ..\n",
       "46834    19\n",
       "46835    20\n",
       "46836    18\n",
       "46837    18\n",
       "46838    16\n",
       "Name: city08, Length: 46839, dtype: int64"
      ]
     },
     "execution_count": 139,
     "metadata": {},
     "output_type": "execute_result"
    }
   ],
   "source": [
    "city_mpg.sort_values().sort_index()"
   ]
  },
  {
   "cell_type": "code",
   "execution_count": 140,
   "metadata": {},
   "outputs": [
    {
     "data": {
      "text/plain": [
       "0        19\n",
       "1         9\n",
       "2        23\n",
       "3        10\n",
       "4        17\n",
       "         ..\n",
       "46834    19\n",
       "46835    20\n",
       "46836    18\n",
       "46837    18\n",
       "46838    16\n",
       "Name: city08, Length: 46839, dtype: int64"
      ]
     },
     "execution_count": 140,
     "metadata": {},
     "output_type": "execute_result"
    }
   ],
   "source": [
    "city_mpg"
   ]
  },
  {
   "cell_type": "code",
   "execution_count": 141,
   "metadata": {},
   "outputs": [
    {
     "data": {
      "text/plain": [
       "0         19\n",
       "1          9\n",
       "2         23\n",
       "3         10\n",
       "4         17\n",
       "        ... \n",
       "38608     82\n",
       "39582    111\n",
       "40254    153\n",
       "40256    151\n",
       "40663     65\n",
       "Name: city08, Length: 134, dtype: int64"
      ]
     },
     "execution_count": 141,
     "metadata": {},
     "output_type": "execute_result"
    }
   ],
   "source": [
    "city_mpg.drop_duplicates()"
   ]
  },
  {
   "cell_type": "code",
   "execution_count": 142,
   "metadata": {},
   "outputs": [
    {
     "data": {
      "text/plain": [
       "0        29408.5\n",
       "1          252.0\n",
       "2        39697.5\n",
       "3          633.5\n",
       "4        21051.5\n",
       "          ...   \n",
       "46834    29408.5\n",
       "46835    32478.0\n",
       "46836    25469.0\n",
       "46837    25469.0\n",
       "46838    16677.0\n",
       "Name: city08, Length: 46839, dtype: float64"
      ]
     },
     "execution_count": 142,
     "metadata": {},
     "output_type": "execute_result"
    }
   ],
   "source": [
    "city_mpg.rank()"
   ]
  },
  {
   "cell_type": "code",
   "execution_count": 143,
   "metadata": {},
   "outputs": [
    {
     "data": {
      "text/plain": [
       "0        27688.0\n",
       "1          147.0\n",
       "2        38829.0\n",
       "3          358.0\n",
       "4        18853.0\n",
       "          ...   \n",
       "46834    27688.0\n",
       "46835    31130.0\n",
       "46836    23251.0\n",
       "46837    23251.0\n",
       "46838    14502.0\n",
       "Name: city08, Length: 46839, dtype: float64"
      ]
     },
     "execution_count": 143,
     "metadata": {},
     "output_type": "execute_result"
    }
   ],
   "source": [
    "city_mpg.rank(method='min')"
   ]
  },
  {
   "cell_type": "code",
   "execution_count": 144,
   "metadata": {},
   "outputs": [
    {
     "data": {
      "text/plain": [
       "0        14.0\n",
       "1         4.0\n",
       "2        18.0\n",
       "3         5.0\n",
       "4        12.0\n",
       "         ... \n",
       "46834    14.0\n",
       "46835    15.0\n",
       "46836    13.0\n",
       "46837    13.0\n",
       "46838    11.0\n",
       "Name: city08, Length: 46839, dtype: float64"
      ]
     },
     "execution_count": 144,
     "metadata": {},
     "output_type": "execute_result"
    }
   ],
   "source": [
    "city_mpg.rank(method='dense')"
   ]
  },
  {
   "cell_type": "code",
   "execution_count": 145,
   "metadata": {},
   "outputs": [
    {
     "data": {
      "text/plain": [
       "0        Alfa Romeo\n",
       "1           Ferrari\n",
       "2             Dodge\n",
       "3             Dodge\n",
       "4               スバル\n",
       "            ...    \n",
       "46834           スバル\n",
       "46835           スバル\n",
       "46836           スバル\n",
       "46837           スバル\n",
       "46838           スバル\n",
       "Name: make, Length: 46839, dtype: object"
      ]
     },
     "execution_count": 145,
     "metadata": {},
     "output_type": "execute_result"
    }
   ],
   "source": [
    "make.replace('Subaru', 'スバル')"
   ]
  },
  {
   "cell_type": "code",
   "execution_count": 146,
   "metadata": {},
   "outputs": [
    {
     "data": {
      "text/plain": [
       "0        (10, 20]\n",
       "1         (0, 10]\n",
       "2        (20, 40]\n",
       "3         (0, 10]\n",
       "4        (10, 20]\n",
       "           ...   \n",
       "46834    (10, 20]\n",
       "46835    (10, 20]\n",
       "46836    (10, 20]\n",
       "46837    (10, 20]\n",
       "46838    (10, 20]\n",
       "Name: city08, Length: 46839, dtype: category\n",
       "Categories (5, interval[int64, right]): [(0, 10] < (10, 20] < (20, 40] < (40, 70] < (70, 150]]"
      ]
     },
     "execution_count": 146,
     "metadata": {},
     "output_type": "execute_result"
    }
   ],
   "source": [
    "pd.cut(city_mpg, [0, 10, 20, 40, 70, 150])"
   ]
  },
  {
   "cell_type": "code",
   "execution_count": 147,
   "metadata": {},
   "outputs": [
    {
     "data": {
      "text/plain": [
       "0         (18.0, 19.0]\n",
       "1        (5.999, 13.0]\n",
       "2         (22.0, 25.0]\n",
       "3        (5.999, 13.0]\n",
       "4         (16.0, 18.0]\n",
       "             ...      \n",
       "46834     (18.0, 19.0]\n",
       "46835     (19.0, 20.0]\n",
       "46836     (16.0, 18.0]\n",
       "46837     (16.0, 18.0]\n",
       "46838     (15.0, 16.0]\n",
       "Name: city08, Length: 46839, dtype: category\n",
       "Categories (10, interval[float64, right]): [(5.999, 13.0] < (13.0, 14.0] < (14.0, 15.0] < (15.0, 16.0] ... (19.0, 20.0] < (20.0, 22.0] < (22.0, 25.0] < (25.0, 153.0]]"
      ]
     },
     "execution_count": 147,
     "metadata": {},
     "output_type": "execute_result"
    }
   ],
   "source": [
    "pd.qcut(city_mpg, 10)"
   ]
  },
  {
   "cell_type": "code",
   "execution_count": 148,
   "metadata": {},
   "outputs": [
    {
     "data": {
      "text/plain": [
       "0        6\n",
       "1        1\n",
       "2        9\n",
       "3        1\n",
       "4        5\n",
       "        ..\n",
       "46834    6\n",
       "46835    7\n",
       "46836    5\n",
       "46837    5\n",
       "46838    4\n",
       "Name: city08, Length: 46839, dtype: category\n",
       "Categories (10, int64): [1 < 2 < 3 < 4 ... 7 < 8 < 9 < 10]"
      ]
     },
     "execution_count": 148,
     "metadata": {},
     "output_type": "execute_result"
    }
   ],
   "source": [
    "pd.qcut(city_mpg, 10, labels=list(range(1,11)))"
   ]
  },
  {
   "cell_type": "markdown",
   "metadata": {},
   "source": [
    "## 9.14 Exercises With a dataset of your choice: \n",
    "\n",
    "1. Create a series from a numeric column that has the value of 'high' if it is equal to or above the mean and 'low' if it is below the mean using .apply. \n",
    "\n",
    "2. Create a series from a numeric column that has the value of 'high' if it is equal to or above the mean and 'low' if it is below the mean using np.select. \n",
    "\n",
    "3. Time the differences between the previous two solutions to see which is faster. \n",
    "\n",
    "4. Replace the missing values of a numeric series with the median value. \n",
    "\n",
    "5. Clip the values of a numeric series to between to 10th and 90th percentiles.\n",
    "\n",
    "6. Using a categorical column, replace any value that is not in the top 5 most frequent values with 'Other'. \n",
    "\n",
    "7. Using a categorical column, replace any value that is not in the top 10 most frequent values with 'Other'. \n",
    "\n",
    "8. Make a function that takes a categorical series and a number (n) and returns a replace series that replaces any value that is not in the top n most frequent values with 'Other'. \n",
    "\n",
    "9. Using a numeric column, bin it into 10 groups that have the same width. \n",
    "\n",
    "10. Using a numeric column, bin it into 10 groups that have equal sized bins."
   ]
  },
  {
   "cell_type": "code",
   "execution_count": 150,
   "metadata": {},
   "outputs": [
    {
     "data": {
      "text/plain": [
       "19.35075471295288"
      ]
     },
     "execution_count": 150,
     "metadata": {},
     "output_type": "execute_result"
    }
   ],
   "source": [
    "city_mpg.mean()"
   ]
  },
  {
   "cell_type": "code",
   "execution_count": 151,
   "metadata": {},
   "outputs": [],
   "source": [
    "mean = city_mpg.mean()\n",
    "def high_low(val):\n",
    "    if val >= mean:\n",
    "        return 'high'\n",
    "    return 'low'"
   ]
  },
  {
   "cell_type": "code",
   "execution_count": 161,
   "metadata": {},
   "outputs": [],
   "source": [
    "mean2 = [18, 20]"
   ]
  },
  {
   "cell_type": "code",
   "execution_count": 155,
   "metadata": {},
   "outputs": [
    {
     "data": {
      "text/plain": [
       "0         low\n",
       "1         low\n",
       "2        high\n",
       "3         low\n",
       "4         low\n",
       "         ... \n",
       "46834     low\n",
       "46835    high\n",
       "46836     low\n",
       "46837     low\n",
       "46838     low\n",
       "Name: city08, Length: 46839, dtype: object"
      ]
     },
     "execution_count": 155,
     "metadata": {},
     "output_type": "execute_result"
    }
   ],
   "source": [
    "city_mpg.apply(high_low)"
   ]
  },
  {
   "cell_type": "code",
   "execution_count": 167,
   "metadata": {},
   "outputs": [
    {
     "data": {
      "text/plain": [
       "0         low\n",
       "1         low\n",
       "2        high\n",
       "3         low\n",
       "4         low\n",
       "         ... \n",
       "46834     low\n",
       "46835    high\n",
       "46836     low\n",
       "46837     low\n",
       "46838     low\n",
       "Length: 46839, dtype: object"
      ]
     },
     "execution_count": 167,
     "metadata": {},
     "output_type": "execute_result"
    }
   ],
   "source": [
    "pd.Series(np.select([city_mpg.ge(mean), city_mpg.lt(mean)],\n",
    "    ['high', 'low']), index=city_mpg.index)"
   ]
  },
  {
   "cell_type": "code",
   "execution_count": null,
   "metadata": {},
   "outputs": [],
   "source": []
  }
 ],
 "metadata": {
  "kernelspec": {
   "display_name": "pandas-env",
   "language": "python",
   "name": "python3"
  },
  "language_info": {
   "codemirror_mode": {
    "name": "ipython",
    "version": 3
   },
   "file_extension": ".py",
   "mimetype": "text/x-python",
   "name": "python",
   "nbconvert_exporter": "python",
   "pygments_lexer": "ipython3",
   "version": "3.11.0"
  },
  "orig_nbformat": 4
 },
 "nbformat": 4,
 "nbformat_minor": 2
}
